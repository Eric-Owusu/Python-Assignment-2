{
 "cells": [
  {
   "cell_type": "markdown",
   "id": "3c2e90df",
   "metadata": {},
   "source": [
    "### Q1\n",
    "\n",
    "Name the four built-in data structures in python. Give one examples for each"
   ]
  },
  {
   "cell_type": "code",
   "execution_count": null,
   "id": "3a36c794",
   "metadata": {},
   "outputs": [],
   "source": [
    "list, tuple, dictionary and set"
   ]
  },
  {
   "cell_type": "markdown",
   "id": "b6e1dd1b",
   "metadata": {},
   "source": [
    "### Q2\n",
    "\n",
    "State two differences between a list and a tuple in Python."
   ]
  },
  {
   "cell_type": "code",
   "execution_count": null,
   "id": "9b0866aa",
   "metadata": {},
   "outputs": [],
   "source": [
    "List uses brackets whilst tuple uses round brackets. Again, lists are mutable whilst tuple is not."
   ]
  },
  {
   "cell_type": "markdown",
   "id": "815b4e67",
   "metadata": {},
   "source": [
    "### Q3\n",
    "Make a list containing names of five animals with a variable name `animal_list`\n",
    "\n",
    "Write a code for the following:\n",
    "- Print the first two animals\n",
    "- Print the last two animals\n",
    "- Add three extra animals to the variable `animal_list`\n",
    "- Remove the first two animals from the variable `animal_list`\n",
    "- How many animals are in the `animal_list`?\n",
    "- Create a variable animal_set which stores the set of animal_list \n",
    "- How many elements are in the animal_set?\n"
   ]
  },
  {
   "cell_type": "code",
   "execution_count": 18,
   "id": "5bb57ce2",
   "metadata": {},
   "outputs": [],
   "source": [
    "animal_list = [\"goat\", \"sheep\", \"dog\", \"cow\", \"fowl\"]"
   ]
  },
  {
   "cell_type": "code",
   "execution_count": 19,
   "id": "e55ee017",
   "metadata": {},
   "outputs": [
    {
     "name": "stdout",
     "output_type": "stream",
     "text": [
      "['goat', 'sheep']\n"
     ]
    }
   ],
   "source": [
    "print(animal_list[0:2])"
   ]
  },
  {
   "cell_type": "code",
   "execution_count": 20,
   "id": "b9b5249b",
   "metadata": {},
   "outputs": [
    {
     "name": "stdout",
     "output_type": "stream",
     "text": [
      "['cow', 'fowl']\n"
     ]
    }
   ],
   "source": [
    "print(animal_list[3:])"
   ]
  },
  {
   "cell_type": "code",
   "execution_count": 21,
   "id": "3976317a",
   "metadata": {},
   "outputs": [],
   "source": [
    "animal_list.extend([\"cattle\", \"lion\", \"zebra\"])"
   ]
  },
  {
   "cell_type": "code",
   "execution_count": 22,
   "id": "ba5f40af",
   "metadata": {},
   "outputs": [
    {
     "name": "stdout",
     "output_type": "stream",
     "text": [
      "['goat', 'sheep', 'dog', 'cow', 'fowl', 'cattle', 'lion', 'zebra']\n"
     ]
    }
   ],
   "source": [
    "print(animal_list)"
   ]
  },
  {
   "cell_type": "code",
   "execution_count": 26,
   "id": "cc6f1a21",
   "metadata": {},
   "outputs": [],
   "source": [
    "del animal_list[:2]\n"
   ]
  },
  {
   "cell_type": "code",
   "execution_count": 27,
   "id": "2af49d37",
   "metadata": {},
   "outputs": [
    {
     "name": "stdout",
     "output_type": "stream",
     "text": [
      "['dog', 'cow', 'fowl', 'cattle', 'lion', 'zebra']\n"
     ]
    }
   ],
   "source": [
    "print(animal_list)"
   ]
  },
  {
   "cell_type": "code",
   "execution_count": 28,
   "id": "f628da33",
   "metadata": {},
   "outputs": [
    {
     "data": {
      "text/plain": [
       "6"
      ]
     },
     "execution_count": 28,
     "metadata": {},
     "output_type": "execute_result"
    }
   ],
   "source": [
    "len(animal_list)"
   ]
  },
  {
   "cell_type": "code",
   "execution_count": 30,
   "id": "64204d63",
   "metadata": {},
   "outputs": [],
   "source": [
    "animal_set =set(animal_list)"
   ]
  },
  {
   "cell_type": "code",
   "execution_count": 31,
   "id": "6a1fb14c",
   "metadata": {},
   "outputs": [
    {
     "name": "stdout",
     "output_type": "stream",
     "text": [
      "{'cow', 'fowl', 'cattle', 'lion', 'zebra', 'dog'}\n"
     ]
    }
   ],
   "source": [
    "print(animal_set)"
   ]
  },
  {
   "cell_type": "code",
   "execution_count": 32,
   "id": "7d899591",
   "metadata": {},
   "outputs": [
    {
     "data": {
      "text/plain": [
       "6"
      ]
     },
     "execution_count": 32,
     "metadata": {},
     "output_type": "execute_result"
    }
   ],
   "source": [
    "len(animal_set)"
   ]
  },
  {
   "cell_type": "code",
   "execution_count": null,
   "id": "6eac855f",
   "metadata": {},
   "outputs": [],
   "source": []
  },
  {
   "cell_type": "markdown",
   "id": "113c9970",
   "metadata": {},
   "source": [
    "### Q4\n",
    "\n",
    "Given a list:\n",
    "\n",
    "suitcase = [\"sunglasses\", \"hat\", \"passport\", \"laptop\", \"suit\", \"shoes\"]\n",
    "\n",
    "a. Create a list called first containing only the two first items from suitcase.\n",
    "\n",
    "b. Create a list called middle containing only the two middle items from suitcase.\n",
    "\n",
    "c. Create a list called last made up only of the last two items from suitcase."
   ]
  },
  {
   "cell_type": "code",
   "execution_count": 35,
   "id": "c24e386d",
   "metadata": {},
   "outputs": [],
   "source": [
    "suitcase = [\"sunglasses\", \"hat\", \"passport\", \"laptop\", \"suit\", \"shoes\"]"
   ]
  },
  {
   "cell_type": "code",
   "execution_count": 36,
   "id": "ce18fb50",
   "metadata": {},
   "outputs": [],
   "source": [
    "list_1 = suitcase[:2]"
   ]
  },
  {
   "cell_type": "code",
   "execution_count": 37,
   "id": "1ebf9465",
   "metadata": {},
   "outputs": [
    {
     "data": {
      "text/plain": [
       "['sunglasses', 'hat']"
      ]
     },
     "execution_count": 37,
     "metadata": {},
     "output_type": "execute_result"
    }
   ],
   "source": [
    "list_1"
   ]
  },
  {
   "cell_type": "code",
   "execution_count": 38,
   "id": "0b48d9ec",
   "metadata": {},
   "outputs": [],
   "source": [
    "middle = suitcase[2:4]"
   ]
  },
  {
   "cell_type": "code",
   "execution_count": 39,
   "id": "7ded5c70",
   "metadata": {},
   "outputs": [
    {
     "name": "stdout",
     "output_type": "stream",
     "text": [
      "['passport', 'laptop']\n"
     ]
    }
   ],
   "source": [
    "print(middle)"
   ]
  },
  {
   "cell_type": "code",
   "execution_count": 43,
   "id": "378ad54d",
   "metadata": {},
   "outputs": [],
   "source": [
    "last = suitcase[-2:]"
   ]
  },
  {
   "cell_type": "code",
   "execution_count": 44,
   "id": "56710ddf",
   "metadata": {},
   "outputs": [
    {
     "name": "stdout",
     "output_type": "stream",
     "text": [
      "['suit', 'shoes']\n"
     ]
    }
   ],
   "source": [
    "print(last)"
   ]
  },
  {
   "cell_type": "code",
   "execution_count": null,
   "id": "94598412",
   "metadata": {},
   "outputs": [],
   "source": []
  },
  {
   "cell_type": "code",
   "execution_count": null,
   "id": "01ccb8cd",
   "metadata": {},
   "outputs": [],
   "source": []
  },
  {
   "cell_type": "markdown",
   "id": "711ba044",
   "metadata": {},
   "source": [
    "### Q5\n",
    "Write a python code to insert 35 into the list below. Make sure it is inserted in the right position to maintain the order of the data.\n",
    "\n",
    "`values = [20,25,30,40,45,50,55,60,65,70]`"
   ]
  },
  {
   "cell_type": "code",
   "execution_count": 45,
   "id": "b4c3857c",
   "metadata": {},
   "outputs": [],
   "source": [
    "values = [20,25,30,40,45,50,55,60,65,70]"
   ]
  },
  {
   "cell_type": "code",
   "execution_count": 46,
   "id": "f5239606",
   "metadata": {},
   "outputs": [],
   "source": [
    "values.insert(3,35)"
   ]
  },
  {
   "cell_type": "code",
   "execution_count": 47,
   "id": "cf602c5a",
   "metadata": {},
   "outputs": [
    {
     "name": "stdout",
     "output_type": "stream",
     "text": [
      "[20, 25, 30, 35, 40, 45, 50, 55, 60, 65, 70]\n"
     ]
    }
   ],
   "source": [
    "print(values)"
   ]
  },
  {
   "cell_type": "code",
   "execution_count": null,
   "id": "9fe0cb24",
   "metadata": {},
   "outputs": [],
   "source": []
  },
  {
   "cell_type": "markdown",
   "id": "f535cf64",
   "metadata": {},
   "source": [
    "### Q6\n",
    "\n",
    "Given that Python lists and Python tuples are quite similar – when might you prefer to use a tuple over a list?"
   ]
  },
  {
   "cell_type": "code",
   "execution_count": null,
   "id": "c8699b02",
   "metadata": {},
   "outputs": [],
   "source": [
    "# When you don't the data to change, that is when you use tuple because tuple is immutable."
   ]
  },
  {
   "cell_type": "code",
   "execution_count": null,
   "id": "73ce6d75",
   "metadata": {},
   "outputs": [],
   "source": []
  },
  {
   "cell_type": "markdown",
   "id": "346927f6",
   "metadata": {},
   "source": [
    "### Q7\n",
    "Create a dictionary with 5 Ghana regions and their capitals and store it in the variable `region_capital`\n",
    "\n",
    "- Print out the keys of region_capital\n",
    "- Print out the values of region_capital\n"
   ]
  },
  {
   "cell_type": "code",
   "execution_count": 50,
   "id": "b6e526ce",
   "metadata": {},
   "outputs": [],
   "source": [
    "region_capital = {\"Greater Accra\":\"Accra\", \"Bono\":\"Sunyani\", \"Eastern\":\"Kofofidua\", \"Central\":\"Cape Coats\", \"Ahafo\":\"Goaso\"}"
   ]
  },
  {
   "cell_type": "code",
   "execution_count": 51,
   "id": "31ee017b",
   "metadata": {},
   "outputs": [
    {
     "data": {
      "text/plain": [
       "dict_keys(['Greater Accra', 'Bono', 'Eastern', 'Central', 'Ahafo'])"
      ]
     },
     "execution_count": 51,
     "metadata": {},
     "output_type": "execute_result"
    }
   ],
   "source": [
    "region_capital.keys()"
   ]
  },
  {
   "cell_type": "code",
   "execution_count": 52,
   "id": "c51cc53f",
   "metadata": {},
   "outputs": [
    {
     "data": {
      "text/plain": [
       "dict_values(['Accra', 'Sunyani', 'Kofofidua', 'Cape Coats', 'Goaso'])"
      ]
     },
     "execution_count": 52,
     "metadata": {},
     "output_type": "execute_result"
    }
   ],
   "source": [
    "region_capital.values()"
   ]
  },
  {
   "cell_type": "code",
   "execution_count": null,
   "id": "0ff907d1",
   "metadata": {},
   "outputs": [],
   "source": []
  },
  {
   "cell_type": "code",
   "execution_count": null,
   "id": "6b3cd64f",
   "metadata": {},
   "outputs": [],
   "source": []
  },
  {
   "cell_type": "markdown",
   "id": "70526b3b",
   "metadata": {},
   "source": [
    "### Q8\n",
    "\n",
    "`values = [3,4,5,6,3,4,3,5,2,4,2,5,6,1,6]`\n",
    "\n",
    "Using the codes above answer the following questions:\n",
    "- What is the total number of elements in values?\n",
    "- What is the highest occuring number in the values variable?\n",
    "- Convert values into a set and store it into a variable named `values_set`\n",
    "- How many elements are in the variable values_set?\n"
   ]
  },
  {
   "cell_type": "code",
   "execution_count": 54,
   "id": "06b4b117",
   "metadata": {},
   "outputs": [],
   "source": [
    "values = [3,4,5,6,3,4,3,5,2,4,2,5,6,1,6,3]"
   ]
  },
  {
   "cell_type": "code",
   "execution_count": 56,
   "id": "35ef7f46",
   "metadata": {},
   "outputs": [
    {
     "data": {
      "text/plain": [
       "16"
      ]
     },
     "execution_count": 56,
     "metadata": {},
     "output_type": "execute_result"
    }
   ],
   "source": [
    "len(values)"
   ]
  },
  {
   "cell_type": "code",
   "execution_count": 58,
   "id": "9df36372",
   "metadata": {},
   "outputs": [
    {
     "data": {
      "text/plain": [
       "6"
      ]
     },
     "execution_count": 58,
     "metadata": {},
     "output_type": "execute_result"
    }
   ],
   "source": [
    "max(values)"
   ]
  },
  {
   "cell_type": "code",
   "execution_count": 59,
   "id": "a558b29d",
   "metadata": {},
   "outputs": [],
   "source": [
    "value_set= set(values)"
   ]
  },
  {
   "cell_type": "code",
   "execution_count": 60,
   "id": "fe20ab06",
   "metadata": {},
   "outputs": [
    {
     "name": "stdout",
     "output_type": "stream",
     "text": [
      "{1, 2, 3, 4, 5, 6}\n"
     ]
    }
   ],
   "source": [
    "print(value_set)"
   ]
  },
  {
   "cell_type": "code",
   "execution_count": 61,
   "id": "8f384f8d",
   "metadata": {},
   "outputs": [
    {
     "data": {
      "text/plain": [
       "6"
      ]
     },
     "execution_count": 61,
     "metadata": {},
     "output_type": "execute_result"
    }
   ],
   "source": [
    "len(value_set)"
   ]
  },
  {
   "cell_type": "code",
   "execution_count": null,
   "id": "647f539b",
   "metadata": {},
   "outputs": [],
   "source": []
  },
  {
   "cell_type": "markdown",
   "id": "801d5876",
   "metadata": {},
   "source": [
    "### Q9\n",
    "Write a Python script to print a dictionary where the keys are numbers between 1 and 15 (both included) and the values are the square of the keys."
   ]
  },
  {
   "cell_type": "code",
   "execution_count": null,
   "id": "4816b453",
   "metadata": {},
   "outputs": [],
   "source": [
    "#dictionary\n",
    "#keys are numbers in range 1 and 15(both included)\n",
    "#values are square of the keys."
   ]
  },
  {
   "cell_type": "code",
   "execution_count": 72,
   "id": "3b464b5d",
   "metadata": {},
   "outputs": [
    {
     "name": "stdout",
     "output_type": "stream",
     "text": [
      "{1: 1, 2: 4, 3: 9, 4: 16, 5: 25, 6: 36, 7: 49, 8: 64, 9: 81, 10: 100, 11: 121, 12: 144, 13: 169, 14: 196, 15: 225}\n"
     ]
    }
   ],
   "source": [
    "output = {}\n",
    "for i in range(1,16):\n",
    "    output[i] = i**2\n",
    "print(output)\n",
    "    \n",
    "    \n",
    "        "
   ]
  },
  {
   "cell_type": "code",
   "execution_count": null,
   "id": "28be5914",
   "metadata": {},
   "outputs": [],
   "source": []
  },
  {
   "cell_type": "code",
   "execution_count": null,
   "id": "9e4682af",
   "metadata": {},
   "outputs": [],
   "source": []
  },
  {
   "cell_type": "markdown",
   "id": "18954e57",
   "metadata": {},
   "source": [
    "### Q10\n",
    "Write a Python program to create a dictionary of keys x, y, and z where each key has as value a list from 11-20, 21-30, and 31-40 respectively. Access the fifth value of each key from the dictionary."
   ]
  },
  {
   "cell_type": "code",
   "execution_count": 66,
   "id": "fec19820",
   "metadata": {},
   "outputs": [],
   "source": [
    "x=11-20\n",
    "y=21-30\n",
    "z=31-40"
   ]
  },
  {
   "cell_type": "code",
   "execution_count": 73,
   "id": "6a3fcca1",
   "metadata": {},
   "outputs": [],
   "source": [
    "x_list=[]\n",
    "for x in range(11,20):\n",
    "    x_list.append(x)\n",
    "x_list\n",
    "\n",
    "y_list =[]\n",
    "for y in range(21,30):\n",
    "    y_list.append(y)\n",
    "y_list\n",
    "\n",
    "z_list=[]\n",
    "for z in range(31,40):\n",
    "    z_list.append(z)\n",
    "z_list\n",
    "dict={\"x\":x_list[5], \"y\":y_list[5], \"z\":z_list[5]}\n"
   ]
  },
  {
   "cell_type": "code",
   "execution_count": 74,
   "id": "82fb5d96",
   "metadata": {},
   "outputs": [
    {
     "name": "stdout",
     "output_type": "stream",
     "text": [
      "{'x': 16, 'y': 26, 'z': 36}\n"
     ]
    }
   ],
   "source": [
    "print(dict)"
   ]
  },
  {
   "cell_type": "code",
   "execution_count": null,
   "id": "8d866047",
   "metadata": {},
   "outputs": [],
   "source": []
  }
 ],
 "metadata": {
  "kernelspec": {
   "display_name": "Python 3 (ipykernel)",
   "language": "python",
   "name": "python3"
  },
  "language_info": {
   "codemirror_mode": {
    "name": "ipython",
    "version": 3
   },
   "file_extension": ".py",
   "mimetype": "text/x-python",
   "name": "python",
   "nbconvert_exporter": "python",
   "pygments_lexer": "ipython3",
   "version": "3.9.13"
  }
 },
 "nbformat": 4,
 "nbformat_minor": 5
}
